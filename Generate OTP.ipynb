{
 "cells": [
  {
   "cell_type": "code",
   "execution_count": 1,
   "id": "21614b42",
   "metadata": {},
   "outputs": [],
   "source": [
    "#Import libraries\n",
    "\n",
    "import random"
   ]
  },
  {
   "cell_type": "code",
   "execution_count": 2,
   "id": "a62c8d2c",
   "metadata": {},
   "outputs": [],
   "source": [
    "#Generate One Time Pin (OTP)\n",
    "\n",
    "def generate_otp():\n",
    "    otp = \"\"\n",
    "    for i in range(6):\n",
    "        otp += str(random.randint(0, 9))\n",
    "    return otp"
   ]
  },
  {
   "cell_type": "code",
   "execution_count": 3,
   "id": "5ae4f200",
   "metadata": {},
   "outputs": [
    {
     "name": "stdout",
     "output_type": "stream",
     "text": [
      "Your six digit OTP is:  898762\n"
     ]
    }
   ],
   "source": [
    "#Print 0TP\n",
    "\n",
    "otp = generate_otp()\n",
    "print(\"Your six digit OTP is: \", otp)"
   ]
  },
  {
   "cell_type": "code",
   "execution_count": null,
   "id": "54f859e1",
   "metadata": {},
   "outputs": [],
   "source": []
  }
 ],
 "metadata": {
  "kernelspec": {
   "display_name": "Python 3 (ipykernel)",
   "language": "python",
   "name": "python3"
  },
  "language_info": {
   "codemirror_mode": {
    "name": "ipython",
    "version": 3
   },
   "file_extension": ".py",
   "mimetype": "text/x-python",
   "name": "python",
   "nbconvert_exporter": "python",
   "pygments_lexer": "ipython3",
   "version": "3.11.4"
  }
 },
 "nbformat": 4,
 "nbformat_minor": 5
}
